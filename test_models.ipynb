{
 "cells": [
  {
   "cell_type": "code",
   "execution_count": 2063,
   "metadata": {},
   "outputs": [],
   "source": [
    "import torch, torchvision\n",
    "from torchvision import datasets, transforms\n",
    "from torch import nn, optim\n",
    "from torch.nn import functional as F\n",
    "\n",
    "import os, sys\n",
    "\n",
    "import numpy as np\n",
    "import pandas as pd\n",
    "import shap\n",
    "\n",
    "from torch.utils.data import Dataset, DataLoader\n",
    "\n",
    "from tqdm.auto import tqdm\n",
    "from typing import Dict, List, Tuple\n",
    "\n",
    "import matplotlib.pyplot as plt\n",
    "\n",
    "import talib\n",
    "from pathlib import Path\n",
    "\n",
    "from collections import defaultdict, Counter"
   ]
  },
  {
   "cell_type": "code",
   "execution_count": 2064,
   "metadata": {},
   "outputs": [],
   "source": [
    "DAYS_IN_YEAR = 365\n",
    "HOURS_IN_DAY = 24\n",
    "MINUTES_IN_HOUR = 60"
   ]
  },
  {
   "cell_type": "code",
   "execution_count": 2065,
   "metadata": {},
   "outputs": [
    {
     "data": {
      "text/plain": [
       "'/Users/chenxu/Work/Crypto'"
      ]
     },
     "execution_count": 2065,
     "metadata": {},
     "output_type": "execute_result"
    }
   ],
   "source": [
    "root_dir = Path('/Users/chenxu/Work/Crypto/')\n",
    "os.chdir(root_dir)\n",
    "os.getcwd()"
   ]
  },
  {
   "cell_type": "code",
   "execution_count": 2066,
   "metadata": {},
   "outputs": [],
   "source": [
    "btc_dir = root_dir / 'spot/monthly/klines/BTCUSDT/1m'\n",
    "eth_dir = root_dir / 'spot/monthly/klines/ETHUSDT/1m'"
   ]
  },
  {
   "cell_type": "code",
   "execution_count": 2067,
   "metadata": {},
   "outputs": [
    {
     "data": {
      "text/plain": [
       "device(type='mps')"
      ]
     },
     "execution_count": 2067,
     "metadata": {},
     "output_type": "execute_result"
    }
   ],
   "source": [
    "device = torch.device('mps' if torch.backends.mps.is_available() else 'cpu')\n",
    "device"
   ]
  },
  {
   "cell_type": "code",
   "execution_count": 2068,
   "metadata": {},
   "outputs": [],
   "source": [
    "train_start, train_end = '2023-05', '2023-09'\n",
    "valid_start, valid_end = '2023-09', '2023-10'\n",
    "test_start,  test_end  = '2023-10', '2023-11'"
   ]
  },
  {
   "cell_type": "code",
   "execution_count": 2069,
   "metadata": {},
   "outputs": [],
   "source": [
    "# df = pd.read_csv('data_ml.csv', index_col=['datetime'], parse_dates=['datetime'])\n",
    "# len(df)\n",
    "\n",
    "btc_train_files, btc_valid_files, btc_test_files = [], [], []\n",
    "eth_train_files, eth_valid_files, eth_test_files = [], [], []\n",
    "\n",
    "def get_raw_files(directory, train_set, valid_set, test_set):\n",
    "    for f in directory.iterdir():\n",
    "        name, _ = f.name.split('.')\n",
    "        month = name[-7:]\n",
    "        if month < train_start or month >= test_end:\n",
    "            continue\n",
    "        if month < train_end:\n",
    "            train_set += f,\n",
    "        elif month < valid_end:\n",
    "            valid_set += f,\n",
    "        else:\n",
    "            test_set += f,\n",
    "\n",
    "get_raw_files(btc_dir, btc_train_files, btc_valid_files, btc_test_files)\n",
    "get_raw_files(eth_dir, eth_train_files, eth_valid_files, eth_test_files)"
   ]
  },
  {
   "cell_type": "code",
   "execution_count": 2070,
   "metadata": {},
   "outputs": [],
   "source": [
    "headers = [\n",
    "            \"open_time\",\n",
    "            \"open\",\n",
    "            \"high\",\n",
    "            \"low\",\n",
    "            \"close\",\n",
    "            \"volume\",\n",
    "            \"close_time\",\n",
    "            \"quote_volume\",\n",
    "            \"n_trades\",\n",
    "            \"taker_buy_base_volume\",\n",
    "            \"taker_buy_quote_volume\",\n",
    "            \"ignore\",\n",
    "          ]"
   ]
  },
  {
   "cell_type": "code",
   "execution_count": 2071,
   "metadata": {},
   "outputs": [],
   "source": [
    "def load_one_csv(filename: Path, headers: list, time_to_use: str, time_unit: int) -> pd.DataFrame:\n",
    "    df = pd.read_csv(filename, header=None, names=headers)\n",
    "    df.sort_values(time_to_use, inplace=True)\n",
    "    df.drop_duplicates(subset=[time_to_use], keep=\"first\", inplace=True)\n",
    "    df[\"datetime\"] = pd.to_datetime(df[time_to_use], unit=time_unit).dt.tz_localize(None)\n",
    "    df.drop(labels=[\"open_time\", \"close_time\", \"ignore\"], axis=1, inplace=True)\n",
    "    df.set_index(\"datetime\", inplace=True)\n",
    "    return df.sort_index()"
   ]
  },
  {
   "cell_type": "code",
   "execution_count": 2264,
   "metadata": {},
   "outputs": [
    {
     "name": "stdout",
     "output_type": "stream",
     "text": [
      "BTC train: 177120\n",
      "BTC valid: 43200\n",
      "BTC test:  44640\n",
      "ETH train: 177120\n",
      "ETH valid: 43200\n",
      "ETH test:  44640\n"
     ]
    }
   ],
   "source": [
    "def load_raw(files):\n",
    "    res = []\n",
    "    for f in files:\n",
    "        df = load_one_csv(f, headers, 'open_time', 'ms')\n",
    "        res += df,\n",
    "    return pd.concat(res).sort_index()\n",
    "\n",
    "df_btc_train = load_raw(btc_train_files)\n",
    "df_btc_valid = load_raw(btc_valid_files)\n",
    "df_btc_test  = load_raw(btc_test_files)\n",
    "\n",
    "df_eth_train = load_raw(eth_train_files)\n",
    "df_eth_valid = load_raw(eth_valid_files)\n",
    "df_eth_test  = load_raw(eth_test_files)\n",
    "\n",
    "print(f'BTC train: {len(df_btc_train)}')\n",
    "print(f'BTC valid: {len(df_btc_valid)}')\n",
    "print(f'BTC test:  {len(df_btc_test)}')\n",
    "print(f'ETH train: {len(df_eth_train)}')\n",
    "print(f'ETH valid: {len(df_eth_valid)}')\n",
    "print(f'ETH test:  {len(df_eth_test)}')"
   ]
  },
  {
   "cell_type": "code",
   "execution_count": 2265,
   "metadata": {},
   "outputs": [],
   "source": [
    "def gen_features(df: pd.DataFrame, train: bool = False, lookbacks: list = [10, 15, 30, 60, 60 * 2, 60 * 4, 60 * 24]):\n",
    "    fields_1 = defaultdict(lambda: pd.Series)\n",
    "    fields_2 = defaultdict(lambda: pd.Series)\n",
    "\n",
    "    for lb in lookbacks:\n",
    "        df_ret = np.log(df['close']).diff()\n",
    "        df_ret_lb = df_ret.rolling(window=lb).sum()\n",
    "        df_sd_lb  = df_ret.rolling(window=lb).std()\n",
    "        df_sh_lb  = df_ret_lb.div(df_sd_lb) * np.sqrt(1. / lb)\n",
    "        df_quote_vol     = df['quote_volume'].rolling(window=lb).sum()\n",
    "        df_n_trades      = df['n_trades'].rolling(window=lb).sum()\n",
    "        df_buy_quote_vol = df['taker_buy_quote_volume'].rolling(window=lb).sum()\n",
    "        df_quote_vol_2d  = df_quote_vol.rolling(window=60*48, min_periods=60*24).median()\n",
    "        df_n_trades_2d   = df_n_trades.rolling(window=60*48, min_periods=60*24).median()\n",
    "\n",
    "        df_vol_per_trade = df_quote_vol.div(df_n_trades)\n",
    "        df_vol_per_trade_2d = df_vol_per_trade.rolling(window=60*48, min_periods=60*24).median()\n",
    "\n",
    "        df_adx = talib.ADXR(df['high'], df['low'], df['close'], timeperiod=lb)\n",
    "\n",
    "        df_apo = talib.APO(df['close'], fastperiod=lb, slowperiod=lb*2)\n",
    "        df_apo_high = df_apo.rolling(window=60*48, min_periods=60*24).max()\n",
    "        df_apo_low = df_apo.rolling(window=60*48, min_periods=60*24).min()\n",
    "\n",
    "        df_aroonosc = talib.AROONOSC(df['high'], df['low'], timeperiod=lb)\n",
    "        df_rsi = talib.RSI(df['close'], timeperiod=lb)\n",
    "        df_mfi = talib.MFI(df['high'], df['low'], df['close'], df['quote_volume'], timeperiod=lb)\n",
    "\n",
    "        df_cci = talib.CCI(df['high'], df['low'], df['close'], timeperiod=lb)\n",
    "        df_cci_high = df_cci.rolling(window=60*48, min_periods=60*24).max()\n",
    "        df_cci_low = df_cci.rolling(window=60*48, min_periods=60*24).min()\n",
    "\n",
    "        # df_high_lb  = df['high'].rolling(window=lb).max()\n",
    "        # df_low_lb   = df['low'].rolling(window=lb).min()\n",
    "        # df_open_lb  = df['open'].shift(lb)\n",
    "        # df_close_lb = df['close']\n",
    "        # fields_1[f'bop_{lb}'] =  talib.BOP(df_open_lb, df_high_lb, df_low_lb, df_close_lb)\n",
    "\n",
    "\n",
    "        fields_1[f'sharpe_{lb}'] = df_sh_lb\n",
    "        fields_1[f'vol_{lb}'] = df_sd_lb / np.sqrt(1. / lb) * 100.\n",
    "        fields_1[f'buy_ratio_{lb}'] = df_buy_quote_vol.div(df_quote_vol) * 2 - 1.\n",
    "        fields_1[f'quote_vol_{lb}'] = df_quote_vol.div(df_quote_vol_2d) - 1.\n",
    "        fields_1[f'n_trades_{lb}'] = df_n_trades.div(df_n_trades_2d) - 1.\n",
    "        fields_1[f'vol_per_trade_{lb}'] = df_vol_per_trade.div(df_vol_per_trade_2d) - 1.\n",
    "\n",
    "        fields_1[f'adx_{lb}'] = df_adx / 100. * 2. - 1.\n",
    "        fields_1[f'apo_{lb}'] = (df_apo - df_apo_low).div(df_apo_high - df_apo_low) * 2 - 1.\n",
    "        fields_1[f'ar_{lb}'] = df_aroonosc / 100.\n",
    "\n",
    "        fields_1[f'cci_{lb}'] = (df_cci - df_cci_low).div(df_cci_high - df_cci_low) * 2 - 1.\n",
    "        fields_1[f'rsi_{lb}'] = df_rsi / 100. * 2 - 1.\n",
    "        fields_1[f'mfi_{lb}'] = df_mfi / 100. * 2 - 1.\n",
    "\n",
    "    fields_1['close'] = df['close']\n",
    "\n",
    "    return pd.DataFrame(fields_1)"
   ]
  },
  {
   "cell_type": "code",
   "execution_count": 2615,
   "metadata": {},
   "outputs": [],
   "source": [
    "df_train = gen_features(df_eth_train)\n",
    "df_valid = gen_features(df_eth_valid)\n",
    "df_test  = gen_features(df_eth_test)"
   ]
  },
  {
   "cell_type": "code",
   "execution_count": 2616,
   "metadata": {},
   "outputs": [],
   "source": [
    "df_train= df_train.resample('30T').last()\n",
    "df_valid= df_valid.resample('30T').last()\n",
    "df_test= df_test.resample('30T').last()\n",
    "\n",
    "df_train['close'] = df_train['close'].diff().shift(-1)\n",
    "df_valid['close'] = df_valid['close'].diff().shift(-1)\n",
    "df_test['close'] = df_test['close'].diff().shift(-1)"
   ]
  },
  {
   "cell_type": "code",
   "execution_count": 2583,
   "metadata": {},
   "outputs": [],
   "source": [
    "from math import pi \n",
    "\n",
    "df_train['fc_01'] = np.sin(2 * pi * df_train.index.hour / 24.)   + df_train.index.minute * 5\n",
    "df_train['fc_02'] = np.cos(2 * pi * df_train.index.hour / 24.)   + df_train.index.minute * 5\n",
    "df_train['fc_03'] = np.sin(2 * pi * df_train.index.minute / 60.) + df_train.index.hour / 3.\n",
    "df_train['fc_04'] = np.cos(2 * pi * df_train.index.minute / 60.) + df_train.index.hour / 3.\n",
    "\n",
    "df_valid['fc_01'] = np.sin(2 * pi * df_valid.index.hour / 24.)   + df_valid.index.minute * 5\n",
    "df_valid['fc_02'] = np.cos(2 * pi * df_valid.index.hour / 24.)   + df_valid.index.minute * 5\n",
    "df_valid['fc_03'] = np.sin(2 * pi * df_valid.index.minute / 60.) + df_valid.index.hour / 3.\n",
    "df_valid['fc_04'] = np.cos(2 * pi * df_valid.index.minute / 60.) + df_valid.index.hour / 3.\n",
    "\n",
    "df_test['fc_01'] = np.sin(2 * pi * df_test.index.hour / 24.)   + df_test.index.minute * 5\n",
    "df_test['fc_02'] = np.cos(2 * pi * df_test.index.hour / 24.)   + df_test.index.minute * 5\n",
    "df_test['fc_03'] = np.sin(2 * pi * df_test.index.minute / 60.) + df_test.index.hour / 3.\n",
    "df_test['fc_04'] = np.cos(2 * pi * df_test.index.minute / 60.) + df_test.index.hour / 3."
   ]
  },
  {
   "cell_type": "code",
   "execution_count": 2617,
   "metadata": {},
   "outputs": [],
   "source": [
    "df_train.dropna(how='any', inplace=True)\n",
    "df_valid.dropna(how='any', inplace=True)\n",
    "df_test.dropna(how='any', inplace=True)\n",
    "\n",
    "# y_train = df_train.pop('close')\n",
    "# y_valid = df_valid.pop('close')\n",
    "# y_test = df_test.pop('close')"
   ]
  },
  {
   "cell_type": "code",
   "execution_count": 2618,
   "metadata": {},
   "outputs": [],
   "source": [
    "# LSTM\n",
    "\n",
    "def create_inout_sequences(dataframe, seq_length):\n",
    "    data = dataframe.values\n",
    "    Xs = []\n",
    "    Ys = []\n",
    "\n",
    "    for i in range(len(data) - seq_length):\n",
    "        # X = data[i:i + seq_length, -4:]\n",
    "        # Y = data[i + 1:i + seq_length + 1, -4:]\n",
    "        X = data[i:i + seq_length, :-1]\n",
    "        Y = data[i:i + seq_length, -1:]\n",
    "\n",
    "        Xs.append(X)\n",
    "        Ys.append(Y)\n",
    "\n",
    "    return Xs, Ys\n",
    "\n",
    "class TimeSeriesDataset(Dataset):\n",
    "    def __init__(self, data, seq_length):\n",
    "        self.X, self.Y = create_inout_sequences(data, seq_length)\n",
    "\n",
    "    def __len__(self):\n",
    "        return len(self.X)\n",
    "\n",
    "    def __getitem__(self, index):\n",
    "        return self.X[index], self.Y[index]"
   ]
  },
  {
   "cell_type": "code",
   "execution_count": 2739,
   "metadata": {},
   "outputs": [],
   "source": [
    "\"\"\"\n",
    "class CustomDataset(Dataset):\n",
    "    def __init__(self, dataframe):\n",
    "        self.data = dataframe\n",
    "\n",
    "    def __len__(self):\n",
    "        return len(self.data)\n",
    "\n",
    "    def __getitem__(self, idx):\n",
    "        # Assuming the last column is the target\n",
    "        X = self.data.iloc[idx, :-1].values\n",
    "        y = self.data.iloc[idx, -1]\n",
    "\n",
    "        # Convert to PyTorch tensors\n",
    "        X = torch.tensor(X, dtype=torch.float32)\n",
    "        y = torch.tensor(y, dtype=torch.float32)\n",
    "\n",
    "        return X, y\n",
    "\"\"\"\n",
    "\n",
    "train_ds = TimeSeriesDataset(df_train, 200)\n",
    "valid_ds = TimeSeriesDataset(df_valid, 200)\n",
    "test_ds  = TimeSeriesDataset(df_test, 200)"
   ]
  },
  {
   "cell_type": "code",
   "execution_count": 2740,
   "metadata": {},
   "outputs": [],
   "source": [
    "batch_size = 32\n",
    "train_loader = DataLoader(train_ds, batch_size=batch_size, shuffle=True)\n",
    "valid_loader = DataLoader(valid_ds, batch_size=batch_size, shuffle=False)\n",
    "test_loader  = DataLoader(test_ds, batch_size=batch_size, shuffle=False)"
   ]
  },
  {
   "cell_type": "code",
   "execution_count": 2741,
   "metadata": {},
   "outputs": [],
   "source": [
    "class PricePredictor(nn.Module):\n",
    "    def __init__(self, input_dim, hidden_dim, num_layers, output_dim, device, dropout=0.2):\n",
    "        super().__init__()\n",
    "        self.hidden_dim = hidden_dim\n",
    "        self.num_layers = num_layers\n",
    "        self.device = device\n",
    "\n",
    "        self.lstm = nn.LSTM(input_dim, hidden_dim, num_layers, batch_first=True, bidirectional=False)\n",
    "        # self.lstm = nn.LSTM(input_dim, hidden_dim, num_layers, batch_first=True, bidirectional=True)\n",
    "        self.dropout = nn.Dropout(dropout)\n",
    "\n",
    "        self.fc1 = nn.Linear(hidden_dim, hidden_dim)\n",
    "        # self.fc1 = nn.Linear(hidden_dim * 2, hidden_dim)\n",
    "        self.fc2 = nn.Linear(hidden_dim, output_dim)\n",
    "\n",
    "    def forward(self, x):\n",
    "        h0 = torch.zeros(self.num_layers, x.size(0), self.hidden_dim).requires_grad_().to(self.device)\n",
    "        c0 = torch.zeros(self.num_layers, x.size(0), self.hidden_dim).requires_grad_().to(self.device)\n",
    "        # h0 = torch.zeros(self.num_layers * 2, x.size(0), self.hidden_dim).requires_grad_().to(self.device)\n",
    "        # c0 = torch.zeros(self.num_layers * 2, x.size(0), self.hidden_dim).requires_grad_().to(self.device)\n",
    "\n",
    "        out, (hn, cn) = self.lstm(x, (h0.detach(), c0.detach()))\n",
    "\n",
    "\n",
    "        out = self.dropout(out[:, -1, :])\n",
    "        # out = self.dropout(torch.cat((hn[-2, :, :], hn[-1, :, :]), dim=1))\n",
    "        out = F.relu(self.fc1(out))\n",
    "        out = self.fc2(out)\n",
    "        return out"
   ]
  },
  {
   "cell_type": "code",
   "execution_count": 2754,
   "metadata": {},
   "outputs": [],
   "source": [
    "model = PricePredictor(84, 20, 1, 1, device, 0.2).to(device)"
   ]
  },
  {
   "cell_type": "code",
   "execution_count": 2755,
   "metadata": {},
   "outputs": [],
   "source": [
    "loss_fn = nn.L1Loss()\n",
    "optimizer = torch.optim.Adam(model.parameters(), lr=0.001)"
   ]
  },
  {
   "cell_type": "code",
   "execution_count": 2756,
   "metadata": {},
   "outputs": [],
   "source": [
    "def train_step(\n",
    "    model: nn.Module,\n",
    "    dataloader: DataLoader,\n",
    "    loss_fn: nn.Module,\n",
    "    optimizer: torch.optim.Optimizer,\n",
    "    device: torch.device) -> Tuple[float, float]:\n",
    "\n",
    "    model.train()\n",
    "    train_loss, train_acc = 0, 0\n",
    "\n",
    "    for batch, (X, y) in enumerate(dataloader):\n",
    "        X, y = X.float().to(device), y.float().to(device)\n",
    "        y_pred = model(X).squeeze(-1)\n",
    "        # loss = loss_fn(y_pred, y[:, -1, -1])\n",
    "        loss = loss_fn(y_pred, y[:, -1, 0])\n",
    "        train_loss += loss.item()\n",
    "\n",
    "        optimizer.zero_grad()\n",
    "        loss.backward()\n",
    "        optimizer.step()\n",
    "\n",
    "        # train_acc += (torch.sign(y_pred) == torch.sign(y[:, -1, -1])).sum().item() / len(y_pred)\n",
    "        train_acc += (torch.sign(y_pred) == torch.sign(y[:, -1, 0])).sum().item() / len(y_pred)\n",
    "\n",
    "    train_loss /= len(dataloader)\n",
    "    train_acc  /= len(dataloader)\n",
    "    return train_loss, train_acc\n",
    "\n",
    "def test_step(\n",
    "    model: nn.Module,\n",
    "    dataloader: DataLoader,\n",
    "    loss_fn: nn.Module,\n",
    "    device: torch.device) -> Tuple[float, float]:\n",
    "\n",
    "    model.eval()\n",
    "\n",
    "    test_loss, test_acc = 0, 0\n",
    "\n",
    "    with torch.inference_mode():\n",
    "        for batch, (X, y) in enumerate(dataloader):\n",
    "            X, y = X.float().to(device), y.float().to(device)\n",
    "            y_pred = model(X).squeeze(-1)\n",
    "            # loss = loss_fn(y_pred, y[:, -1, -1])\n",
    "            loss = loss_fn(y_pred, y[:, -1, 0])\n",
    "            test_loss += loss.item()\n",
    "\n",
    "            # test_acc += (torch.sign(y_pred) == torch.sign(y[:, -1, -1])).sum().item() / len(y_pred)\n",
    "            test_acc += (torch.sign(y_pred) == torch.sign(y[:, -1, 0])).sum().item() / len(y_pred)\n",
    "\n",
    "    test_loss /= len(dataloader)\n",
    "    test_acc  /= len(dataloader)\n",
    "    return test_loss, test_acc"
   ]
  },
  {
   "cell_type": "code",
   "execution_count": 2757,
   "metadata": {},
   "outputs": [],
   "source": [
    "def train(\n",
    "    model: nn.Module,\n",
    "    train_dataloader: DataLoader,\n",
    "    test_dataloader: DataLoader,\n",
    "    optimizer: torch.optim.Optimizer,\n",
    "    loss_fn: nn.Module,\n",
    "    epochs: int,\n",
    "    device: torch.device) -> Dict[str, List]:\n",
    "\n",
    "    results = {\n",
    "        \"train_loss\": [],\n",
    "        \"train_acc\":  [],\n",
    "        \"test_loss\":  [],\n",
    "        \"test_acc\":   [],\n",
    "    }\n",
    "\n",
    "    model.to(device)\n",
    "\n",
    "    for epoch in tqdm(range(epochs)):\n",
    "        train_loss, train_acc = train_step(\n",
    "            model=model,\n",
    "            dataloader=train_dataloader,\n",
    "            loss_fn=loss_fn,\n",
    "            optimizer=optimizer,\n",
    "            device=device)\n",
    "\n",
    "        test_loss, test_acc = test_step(\n",
    "            model=model,\n",
    "            dataloader=test_dataloader,\n",
    "            loss_fn=loss_fn,\n",
    "            device=device)\n",
    "\n",
    "        if (epoch + 1) % ((epochs - 1) // 10 + 1) == 0:\n",
    "            print(\n",
    "                f\"Epoch: {epoch+1} | \"\n",
    "                f\"train_loss: {train_loss:.4f} | \"\n",
    "                f\"train_acc:  {train_acc:.4f}  | \"\n",
    "                f\"test_loss:  {test_loss:.4f} | \"\n",
    "                f\"test_acc:   {test_acc:.4f} | \"\n",
    "            )\n",
    "\n",
    "\n",
    "        results[\"train_loss\"] += train_loss,\n",
    "        results[\"train_acc\"]  += train_acc,\n",
    "        results[\"test_loss\"]  += test_loss,\n",
    "        results[\"test_acc\"]   += test_acc,\n",
    "\n",
    "    return results\n",
    "\n",
    "\n",
    "def plot_results(results: Dict[str, List]) -> None:\n",
    "    keys = [\"train_loss\", \"train_acc\", \"test_loss\", \"test_acc\"]\n",
    "    for k in keys:\n",
    "        if k not in results:\n",
    "            print(f\"{k} doesn't exist!\")\n",
    "            return\n",
    "\n",
    "    epoch_list = list(range(len(results[keys[0]])))\n",
    "    results['idx'] = epoch_list\n",
    "\n",
    "    fig, ax1 = plt.subplots()\n",
    "\n",
    "    ax1.set_xlabel(\"Epoch\")\n",
    "    ax1.set_ylabel(\"Loss\")\n",
    "    lns1 = ax1.plot(epoch_list, results[\"train_loss\"], label=\"Train Loss\")\n",
    "    lns2 = ax1.plot(epoch_list, results[\"test_loss\"], label=\"Test Loss\")\n",
    "    \n",
    "    ax2 = ax1.twinx()\n",
    "    ax2.set_ylabel(\"Accuracy\")\n",
    "    lns3 = ax2.plot(epoch_list, results[\"train_acc\"], color='green', label=\"Train Acc\")\n",
    "    lns4 = ax2.plot(epoch_list, results[\"test_acc\"], color='red', label=\"Test Acc\")\n",
    "\n",
    "    lns = lns1 + lns2 + lns3 + lns4\n",
    "    labs = [l.get_label() for l in lns]\n",
    "    ax1.legend(lns, labs)\n",
    "\n",
    "    plt.show()"
   ]
  },
  {
   "cell_type": "code",
   "execution_count": 2758,
   "metadata": {},
   "outputs": [
    {
     "data": {
      "application/vnd.jupyter.widget-view+json": {
       "model_id": "58e6ce0322a24fe88d7add451e9d1b27",
       "version_major": 2,
       "version_minor": 0
      },
      "text/plain": [
       "  0%|          | 0/20 [00:00<?, ?it/s]"
      ]
     },
     "metadata": {},
     "output_type": "display_data"
    },
    {
     "name": "stdout",
     "output_type": "stream",
     "text": [
      "Epoch: 2 | train_loss: 2.9367 | train_acc:  0.5507  | test_loss:  2.3870 | test_acc:   0.5607 | \n",
      "Epoch: 4 | train_loss: 2.9206 | train_acc:  0.5614  | test_loss:  2.3941 | test_acc:   0.5634 | \n",
      "Epoch: 6 | train_loss: 2.9081 | train_acc:  0.5692  | test_loss:  2.3957 | test_acc:   0.5687 | \n",
      "Epoch: 8 | train_loss: 2.8942 | train_acc:  0.5794  | test_loss:  2.4088 | test_acc:   0.5598 | \n",
      "Epoch: 10 | train_loss: 2.8801 | train_acc:  0.5845  | test_loss:  2.4131 | test_acc:   0.5482 | \n",
      "Epoch: 12 | train_loss: 2.8525 | train_acc:  0.6037  | test_loss:  2.4475 | test_acc:   0.5527 | \n",
      "Epoch: 14 | train_loss: 2.8398 | train_acc:  0.5965  | test_loss:  2.4405 | test_acc:   0.5446 | \n",
      "Epoch: 16 | train_loss: 2.8176 | train_acc:  0.6149  | test_loss:  2.4833 | test_acc:   0.5491 | \n",
      "Epoch: 18 | train_loss: 2.7892 | train_acc:  0.6200  | test_loss:  2.4908 | test_acc:   0.5455 | \n",
      "Epoch: 20 | train_loss: 2.7798 | train_acc:  0.6308  | test_loss:  2.4797 | test_acc:   0.5536 | \n"
     ]
    },
    {
     "data": {
      "image/png": "[encoded data removed]",
      "text/plain": [
       "<Figure size 640x480 with 2 Axes>"
      ]
     },
     "metadata": {},
     "output_type": "display_data"
    }
   ],
   "source": [
    "results = train(\n",
    "            model=model,\n",
    "            train_dataloader=train_loader,\n",
    "            test_dataloader=valid_loader,\n",
    "            loss_fn=loss_fn,\n",
    "            optimizer=optimizer,\n",
    "            epochs=5,\n",
    "            device=device)\n",
    "\n",
    "plot_results(results)"
   ]
  },
  {
   "cell_type": "code",
   "execution_count": 2759,
   "metadata": {},
   "outputs": [
    {
     "name": "stdout",
     "output_type": "stream",
     "text": [
      "Test loss: 3.5649\n",
      "Test acc:  0.5379\n"
     ]
    }
   ],
   "source": [
    "test_loss, test_acc = test_step(model, test_loader, loss_fn, device)\n",
    "print(f'Test loss: {test_loss:.4f}')\n",
    "print(f'Test acc:  {test_acc:.4f}')"
   ]
  },
  {
   "cell_type": "code",
   "execution_count": 359,
   "metadata": {},
   "outputs": [],
   "source": [
    "X, y = next(iter(test_loader))\n",
    "X, y = X.to(device), y.to(device)\n",
    "\n",
    "e = shap.DeepExplainer(model, X)\n",
    "shap_values = e.shap_values(X)"
   ]
  },
  {
   "cell_type": "code",
   "execution_count": 651,
   "metadata": {},
   "outputs": [
    {
     "data": {
      "text/plain": [
       "array([0.00092442, 0.00089863, 0.0008516 , 0.0008234 , 0.00073681,\n",
       "       0.00069524, 0.00067206, 0.0005455 , 0.00050007, 0.00040861,\n",
       "       0.00039408, 0.00037737, 0.00036652, 0.00035392, 0.00025704,\n",
       "       0.00025255, 0.0003168 , 0.00023832, 0.00044233, 0.00047225,\n",
       "       0.00046906, 0.00067196, 0.00078152, 0.00082955, 0.00071082,\n",
       "       0.00064273, 0.00066478, 0.00071363, 0.0007198 , 0.00075376,\n",
       "       0.00083715, 0.00085948])"
      ]
     },
     "execution_count": 651,
     "metadata": {},
     "output_type": "execute_result"
    }
   ],
   "source": [
    "np.abs(shap_values).max(axis=1)\n"
   ]
  }
 ],
 "metadata": {
  "kernelspec": {
   "display_name": "torch",
   "language": "python",
   "name": "python3"
  },
  "language_info": {
   "codemirror_mode": {
    "name": "ipython",
    "version": 3
   },
   "file_extension": ".py",
   "mimetype": "text/x-python",
   "name": "python",
   "nbconvert_exporter": "python",
   "pygments_lexer": "ipython3",
   "version": "3.11.4"
  }
 },
 "nbformat": 4,
 "nbformat_minor": 2
}
